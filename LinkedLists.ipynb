{
 "cells": [
  {
   "cell_type": "code",
   "execution_count": 178,
   "id": "2dba8889",
   "metadata": {},
   "outputs": [
    {
     "data": {
      "text/plain": [
       "'[1  1  2  3  4  5  ]'"
      ]
     },
     "execution_count": 178,
     "metadata": {},
     "output_type": "execute_result"
    }
   ],
   "source": [
    "from typing import Optional\n",
    "class ListNode:\n",
    "    def __init__(self, val=0, next1=None):\n",
    "        self.val = val\n",
    "        self.next = next1\n",
    "\n",
    "class LinkedList:\n",
    "    def __init__(self, arr=[]):\n",
    "        self.head = None\n",
    "        self.createList(arr)\n",
    "        \n",
    "    def __str__(self):\n",
    "        res = \"[\"\n",
    "        if(self.head != None):\n",
    "            temp = self.head\n",
    "            while(temp != None):\n",
    "                res += str(temp.val) + \"  \"\n",
    "                temp = temp.next\n",
    "        res += \"]\"\n",
    "        return res\n",
    "    \n",
    "    def createList(self, arr):\n",
    "        head = ListNode(arr[0], None) if len(arr) > 0 else None\n",
    "        if(head != None):\n",
    "            temp = head\n",
    "            for i in arr[1:]:\n",
    "                temp.next = ListNode(i)\n",
    "                temp = head.next\n",
    "        \n",
    "        self.head = head\n",
    "        return head\n",
    "\n",
    "def printLL(head):\n",
    "    res = \"[\"\n",
    "    if(head != None):\n",
    "        temp = head\n",
    "        while(temp != None):\n",
    "            res += str(temp.val) + \"  \"\n",
    "            temp = temp.next\n",
    "    res += \"]\"\n",
    "    return res\n",
    "\n",
    "# merge linked lists\n",
    "def mergeTwoLists_v1(head1, head2):    \n",
    "    result = ListNode(-1)\n",
    "    \n",
    "    prev = result\n",
    "    while head1 and head2:\n",
    "        if head1.val < head2.val:\n",
    "            prev.next = head1\n",
    "            head1 = head1.next\n",
    "        else:\n",
    "            prev.next = head2\n",
    "            head2 = head2.next\n",
    "            \n",
    "        prev = prev.next\n",
    "    \n",
    "    prev.next = head1 if head1 is not None else head2\n",
    "    \n",
    "    return result.next\n",
    "\n",
    "def mergeTwoLists_v2(head1, head2):\n",
    "    if head1 is None:\n",
    "        return head2\n",
    "    elif head2 is None:\n",
    "        return head1\n",
    "    elif head1.val < head2.val:\n",
    "        head1.next = mergeTwoLists_v2(head1.next, head2)\n",
    "        return head1\n",
    "    else:\n",
    "        head2.next = mergeTwoLists_v2(head1, head2.next)\n",
    "        return head2\n",
    "\n",
    "ll1 = LinkedList([1,2,3])\n",
    "ll2 = LinkedList([1,4,5])\n",
    "printLL(mergeTwoLists_v2(ll1.head, ll2.head))"
   ]
  },
  {
   "cell_type": "code",
   "execution_count": 169,
   "id": "f1102bc3",
   "metadata": {},
   "outputs": [
    {
     "name": "stdout",
     "output_type": "stream",
     "text": [
      "2 None\n"
     ]
    }
   ],
   "source": [
    "a = ListNode(2)\n",
    "print(a.val, a.next)"
   ]
  }
 ],
 "metadata": {
  "kernelspec": {
   "display_name": "mypythonenv",
   "language": "python",
   "name": "mypythonenv"
  },
  "language_info": {
   "codemirror_mode": {
    "name": "ipython",
    "version": 3
   },
   "file_extension": ".py",
   "mimetype": "text/x-python",
   "name": "python",
   "nbconvert_exporter": "python",
   "pygments_lexer": "ipython3",
   "version": "3.9.6"
  }
 },
 "nbformat": 4,
 "nbformat_minor": 5
}
